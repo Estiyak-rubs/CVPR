{
  "nbformat": 4,
  "nbformat_minor": 0,
  "metadata": {
    "colab": {
      "provenance": []
    },
    "kernelspec": {
      "name": "python3",
      "display_name": "Python 3"
    },
    "language_info": {
      "name": "python"
    }
  },
  "cells": [
    {
      "cell_type": "markdown",
      "source": [
        "# ***Assignment - 1 (KNN)***"
      ],
      "metadata": {
        "id": "W8MieMymfK_x"
      }
    },
    {
      "cell_type": "markdown",
      "source": [
        "# **Importing the Libraries :**"
      ],
      "metadata": {
        "id": "mmzR4sM_fs1M"
      }
    },
    {
      "cell_type": "code",
      "source": [
        "import os\n",
        "import cv2\n",
        "import numpy as np\n",
        "from tqdm import tqdm\n",
        "import matplotlib.pyplot as plt\n",
        "from collections import Counter\n",
        "import kagglehub"
      ],
      "metadata": {
        "id": "BewjHwELfrZo"
      },
      "execution_count": null,
      "outputs": []
    },
    {
      "cell_type": "markdown",
      "source": [
        "#**Downloading the Correct Dataset :**"
      ],
      "metadata": {
        "id": "eEKljHeifCbj"
      }
    },
    {
      "cell_type": "code",
      "execution_count": null,
      "metadata": {
        "colab": {
          "base_uri": "https://localhost:8080/"
        },
        "id": "1t5-PsGSe0aF",
        "outputId": "6369142c-1816-4ad6-f323-9cde0ad6bc15"
      },
      "outputs": [
        {
          "output_type": "stream",
          "name": "stdout",
          "text": [
            "Dataset download complete.\n"
          ]
        }
      ],
      "source": [
        "dataset_path = kagglehub.dataset_download('ashishsaxena2209/animal-image-datasetdog-cat-and-panda')\n",
        "print('Dataset download complete.')"
      ]
    },
    {
      "cell_type": "markdown",
      "source": [
        "# **Preprocessing the Images :**"
      ],
      "metadata": {
        "id": "RvxQcAw7gQyF"
      }
    },
    {
      "cell_type": "code",
      "source": [
        "dataset_dir = os.path.join(dataset_path, 'animals')\n",
        "categories = ['cats', 'dogs', 'panda']\n",
        "train_data = []\n",
        "img_size = 32\n",
        "images_per_class = 1000\n",
        "\n",
        "for label, category in enumerate(categories):\n",
        "    path = os.path.join(dataset_dir, category)\n",
        "    count = 0\n",
        "    for img_name in tqdm(os.listdir(path), desc=f\"Loading {category}\"):\n",
        "        if count >= images_per_class:\n",
        "            break\n",
        "        try:\n",
        "            img_path = os.path.join(path, img_name)\n",
        "            img = cv2.imread(img_path)\n",
        "            gray = cv2.cvtColor(img, cv2.COLOR_BGR2GRAY)\n",
        "            resized = cv2.resize(gray, (img_size, img_size))\n",
        "            train_data.append([resized, label])\n",
        "            count += 1\n",
        "        except:\n",
        "            continue\n",
        "\n",
        "np.random.shuffle(train_data)"
      ],
      "metadata": {
        "colab": {
          "base_uri": "https://localhost:8080/"
        },
        "id": "hbL3rUW2gRec",
        "outputId": "ec9c2fdd-e064-449a-d156-8dcd27b84503"
      },
      "execution_count": null,
      "outputs": [
        {
          "output_type": "stream",
          "name": "stderr",
          "text": [
            "Loading cats: 100%|██████████| 1000/1000 [00:08<00:00, 123.44it/s]\n",
            "Loading dogs: 100%|██████████| 1000/1000 [00:07<00:00, 126.95it/s]\n",
            "Loading panda: 100%|██████████| 1000/1000 [00:12<00:00, 82.13it/s]\n"
          ]
        }
      ]
    },
    {
      "cell_type": "markdown",
      "source": [
        "# **Spliting into 5 Folds :**"
      ],
      "metadata": {
        "id": "ksyGCz_CgsEK"
      }
    },
    {
      "cell_type": "code",
      "source": [
        "folds = [train_data[i::5] for i in range(5)]"
      ],
      "metadata": {
        "id": "a7CdP3eggsu9"
      },
      "execution_count": null,
      "outputs": []
    },
    {
      "cell_type": "markdown",
      "source": [
        "# **(L1 & L2) Distance Functions and Logic of KNN :**"
      ],
      "metadata": {
        "id": "UVI6vX31hFMw"
      }
    },
    {
      "cell_type": "code",
      "source": [
        "def l2_distance(img1, img2):\n",
        "    return np.sqrt(np.sum((img1 - img2) ** 2))\n",
        "\n",
        "def l1_distance(img1, img2):\n",
        "    return np.sum(np.abs(img1 - img2))\n",
        "\n",
        "def knn_predict(distances, k=3):\n",
        "    neighbors = sorted(distances, key=lambda x: x[0])[:k]\n",
        "    labels = [label for _, label in neighbors]\n",
        "    return Counter(labels).most_common(1)[0][0]"
      ],
      "metadata": {
        "id": "CXJQF7DOhFoc"
      },
      "execution_count": null,
      "outputs": []
    },
    {
      "cell_type": "markdown",
      "source": [
        "# **Evaluation of Cross-Validation :**"
      ],
      "metadata": {
        "id": "juOVPRO4hdQJ"
      }
    },
    {
      "cell_type": "code",
      "source": [
        "def evaluate_knn(distance_func, k_range=range(1, 16)):\n",
        "    all_accuracies = []\n",
        "\n",
        "    for k in k_range:\n",
        "        accuracies = []\n",
        "        for i in range(5):\n",
        "            val_set = folds[i]\n",
        "            train_set = [item for j, fold in enumerate(folds) if j != i for item in fold]\n",
        "\n",
        "            correct = 0\n",
        "            for val_img, true_label in tqdm(val_set, desc=f\"Fold {i+1}, K={k}\", leave=False):\n",
        "                distances = [(distance_func(val_img, train_img), label) for train_img, label in train_set]\n",
        "                pred = knn_predict(distances, k)\n",
        "                correct += (pred == true_label)\n",
        "\n",
        "            acc = correct / len(val_set)\n",
        "            accuracies.append(acc)\n",
        "\n",
        "        avg_acc = np.mean(accuracies)\n",
        "        all_accuracies.append(avg_acc)\n",
        "        print(f\"K={k}, Avg Accuracy = {avg_acc:.4f}\")\n",
        "\n",
        "    return all_accuracies"
      ],
      "metadata": {
        "id": "5_9CXGQbhdtZ"
      },
      "execution_count": null,
      "outputs": []
    },
    {
      "cell_type": "markdown",
      "source": [
        "# **Running the Evaluation for (L1 & L2) :**"
      ],
      "metadata": {
        "id": "RBCX4q4iiEYA"
      }
    },
    {
      "cell_type": "code",
      "source": [
        "k_range = range(1, 16)\n",
        "print(\"\\nEvaluating Manhattan (L1) Distance:\")\n",
        "acc_l1 = evaluate_knn(l1_distance, k_range)\n",
        "\n",
        "print(\"\\nEvaluating Euclidean (L2) Distance:\")\n",
        "acc_l2 = evaluate_knn(l2_distance, k_range)"
      ],
      "metadata": {
        "colab": {
          "base_uri": "https://localhost:8080/"
        },
        "id": "KJPFdKIXiE6P",
        "outputId": "c18e0a54-98de-4076-fb47-f43c8ea703aa"
      },
      "execution_count": null,
      "outputs": [
        {
          "output_type": "stream",
          "name": "stdout",
          "text": [
            "\n",
            "Evaluating Manhattan (L1) Distance:\n"
          ]
        },
        {
          "output_type": "stream",
          "name": "stderr",
          "text": []
        },
        {
          "output_type": "stream",
          "name": "stdout",
          "text": [
            "K=1, Avg Accuracy = 0.3867\n"
          ]
        },
        {
          "output_type": "stream",
          "name": "stderr",
          "text": []
        },
        {
          "output_type": "stream",
          "name": "stdout",
          "text": [
            "K=2, Avg Accuracy = 0.3867\n"
          ]
        },
        {
          "output_type": "stream",
          "name": "stderr",
          "text": []
        },
        {
          "output_type": "stream",
          "name": "stdout",
          "text": [
            "K=3, Avg Accuracy = 0.3807\n"
          ]
        },
        {
          "output_type": "stream",
          "name": "stderr",
          "text": []
        },
        {
          "output_type": "stream",
          "name": "stdout",
          "text": [
            "K=4, Avg Accuracy = 0.3913\n"
          ]
        },
        {
          "output_type": "stream",
          "name": "stderr",
          "text": []
        },
        {
          "output_type": "stream",
          "name": "stdout",
          "text": [
            "K=5, Avg Accuracy = 0.3847\n"
          ]
        },
        {
          "output_type": "stream",
          "name": "stderr",
          "text": []
        },
        {
          "output_type": "stream",
          "name": "stdout",
          "text": [
            "K=6, Avg Accuracy = 0.4007\n"
          ]
        },
        {
          "output_type": "stream",
          "name": "stderr",
          "text": []
        },
        {
          "output_type": "stream",
          "name": "stdout",
          "text": [
            "K=7, Avg Accuracy = 0.4110\n"
          ]
        },
        {
          "output_type": "stream",
          "name": "stderr",
          "text": []
        },
        {
          "output_type": "stream",
          "name": "stdout",
          "text": [
            "K=8, Avg Accuracy = 0.4070\n"
          ]
        },
        {
          "output_type": "stream",
          "name": "stderr",
          "text": []
        },
        {
          "output_type": "stream",
          "name": "stdout",
          "text": [
            "K=9, Avg Accuracy = 0.4120\n"
          ]
        },
        {
          "output_type": "stream",
          "name": "stderr",
          "text": []
        },
        {
          "output_type": "stream",
          "name": "stdout",
          "text": [
            "K=10, Avg Accuracy = 0.4197\n"
          ]
        },
        {
          "output_type": "stream",
          "name": "stderr",
          "text": []
        },
        {
          "output_type": "stream",
          "name": "stdout",
          "text": [
            "K=11, Avg Accuracy = 0.4187\n"
          ]
        },
        {
          "output_type": "stream",
          "name": "stderr",
          "text": []
        },
        {
          "output_type": "stream",
          "name": "stdout",
          "text": [
            "K=12, Avg Accuracy = 0.4243\n"
          ]
        },
        {
          "output_type": "stream",
          "name": "stderr",
          "text": []
        },
        {
          "output_type": "stream",
          "name": "stdout",
          "text": [
            "K=13, Avg Accuracy = 0.4220\n"
          ]
        },
        {
          "output_type": "stream",
          "name": "stderr",
          "text": []
        },
        {
          "output_type": "stream",
          "name": "stdout",
          "text": [
            "K=14, Avg Accuracy = 0.4257\n"
          ]
        },
        {
          "output_type": "stream",
          "name": "stderr",
          "text": []
        },
        {
          "output_type": "stream",
          "name": "stdout",
          "text": [
            "K=15, Avg Accuracy = 0.4257\n",
            "\n",
            "Evaluating Euclidean (L2) Distance:\n"
          ]
        },
        {
          "output_type": "stream",
          "name": "stderr",
          "text": []
        },
        {
          "output_type": "stream",
          "name": "stdout",
          "text": [
            "K=1, Avg Accuracy = 0.4363\n"
          ]
        },
        {
          "output_type": "stream",
          "name": "stderr",
          "text": []
        },
        {
          "output_type": "stream",
          "name": "stdout",
          "text": [
            "K=2, Avg Accuracy = 0.4363\n"
          ]
        },
        {
          "output_type": "stream",
          "name": "stderr",
          "text": []
        },
        {
          "output_type": "stream",
          "name": "stdout",
          "text": [
            "K=3, Avg Accuracy = 0.4467\n"
          ]
        },
        {
          "output_type": "stream",
          "name": "stderr",
          "text": []
        },
        {
          "output_type": "stream",
          "name": "stdout",
          "text": [
            "K=4, Avg Accuracy = 0.4623\n"
          ]
        },
        {
          "output_type": "stream",
          "name": "stderr",
          "text": []
        },
        {
          "output_type": "stream",
          "name": "stdout",
          "text": [
            "K=5, Avg Accuracy = 0.4567\n"
          ]
        },
        {
          "output_type": "stream",
          "name": "stderr",
          "text": []
        },
        {
          "output_type": "stream",
          "name": "stdout",
          "text": [
            "K=6, Avg Accuracy = 0.4727\n"
          ]
        },
        {
          "output_type": "stream",
          "name": "stderr",
          "text": []
        },
        {
          "output_type": "stream",
          "name": "stdout",
          "text": [
            "K=7, Avg Accuracy = 0.4773\n"
          ]
        },
        {
          "output_type": "stream",
          "name": "stderr",
          "text": []
        },
        {
          "output_type": "stream",
          "name": "stdout",
          "text": [
            "K=8, Avg Accuracy = 0.4797\n"
          ]
        },
        {
          "output_type": "stream",
          "name": "stderr",
          "text": []
        },
        {
          "output_type": "stream",
          "name": "stdout",
          "text": [
            "K=9, Avg Accuracy = 0.4827\n"
          ]
        },
        {
          "output_type": "stream",
          "name": "stderr",
          "text": []
        },
        {
          "output_type": "stream",
          "name": "stdout",
          "text": [
            "K=10, Avg Accuracy = 0.4900\n"
          ]
        },
        {
          "output_type": "stream",
          "name": "stderr",
          "text": []
        },
        {
          "output_type": "stream",
          "name": "stdout",
          "text": [
            "K=11, Avg Accuracy = 0.4947\n"
          ]
        },
        {
          "output_type": "stream",
          "name": "stderr",
          "text": []
        },
        {
          "output_type": "stream",
          "name": "stdout",
          "text": [
            "K=12, Avg Accuracy = 0.4990\n"
          ]
        },
        {
          "output_type": "stream",
          "name": "stderr",
          "text": []
        },
        {
          "output_type": "stream",
          "name": "stdout",
          "text": [
            "K=13, Avg Accuracy = 0.4970\n"
          ]
        },
        {
          "output_type": "stream",
          "name": "stderr",
          "text": []
        },
        {
          "output_type": "stream",
          "name": "stdout",
          "text": [
            "K=14, Avg Accuracy = 0.5030\n"
          ]
        },
        {
          "output_type": "stream",
          "name": "stderr",
          "text": [
            "                                                               "
          ]
        },
        {
          "output_type": "stream",
          "name": "stdout",
          "text": [
            "K=15, Avg Accuracy = 0.5000\n"
          ]
        },
        {
          "output_type": "stream",
          "name": "stderr",
          "text": [
            "\r"
          ]
        }
      ]
    },
    {
      "cell_type": "markdown",
      "source": [
        "# **Plotting the Accuracy Comparison :**"
      ],
      "metadata": {
        "id": "M0TKdeBOiOnm"
      }
    },
    {
      "cell_type": "code",
      "source": [
        "plt.figure(figsize=(10, 6))\n",
        "plt.plot(k_range, acc_l1, marker='o', label='L1 (Manhattan)', color='blue')\n",
        "plt.plot(k_range, acc_l2, marker='s', label='L2 (Euclidean)', color='green')\n",
        "plt.title(\"Accuracy vs K (5-Fold Cross-Validation)\")\n",
        "plt.xlabel(\"K (Number of Neighbors)\")\n",
        "plt.ylabel(\"Average Accuracy\")\n",
        "plt.legend()\n",
        "plt.grid(True)\n",
        "plt.show()"
      ],
      "metadata": {
        "colab": {
          "base_uri": "https://localhost:8080/",
          "height": 564
        },
        "id": "0L5jwKQBiQtd",
        "outputId": "dcf74b85-92eb-42bf-97fb-17364c041c33"
      },
      "execution_count": null,
      "outputs": [
        {
          "output_type": "display_data",
          "data": {
            "text/plain": [
              "<Figure size 1000x600 with 1 Axes>"
            ],
            "image/png": "[encoded data removed]"
          },
          "metadata": {}
        }
      ]
    },
    {
      "cell_type": "markdown",
      "source": [
        "# **Showing the Top 5 Predictions from Fold 0 :**"
      ],
      "metadata": {
        "id": "ep7oM7I_iaOu"
      }
    },
    {
      "cell_type": "code",
      "source": [
        "val_set = folds[0][:5]\n",
        "train_set = [item for j, fold in enumerate(folds) if j != 0 for item in fold]\n",
        "final_k = 5\n",
        "final_distance = l2_distance\n",
        "\n",
        "label_names = ['Cat', 'Dog', 'Panda']\n",
        "\n",
        "plt.figure(figsize=(15, 3))\n",
        "for i, (img, true_label) in enumerate(val_set):\n",
        "    distances = [(final_distance(img, tr_img), label) for tr_img, label in train_set]\n",
        "    pred = knn_predict(distances, final_k)\n",
        "\n",
        "    plt.subplot(1, 5, i + 1)\n",
        "    plt.imshow(img, cmap='gray')\n",
        "    plt.title(f\"Pred: {label_names[pred]}\\nTrue: {label_names[true_label]}\")\n",
        "    plt.axis('off')\n",
        "\n",
        "plt.tight_layout()\n",
        "plt.show()"
      ],
      "metadata": {
        "colab": {
          "base_uri": "https://localhost:8080/",
          "height": 314
        },
        "id": "VARYwqGNiaso",
        "outputId": "f71d7697-5bf0-4053-98c6-9fbc0264ff4f"
      },
      "execution_count": null,
      "outputs": [
        {
          "output_type": "display_data",
          "data": {
            "text/plain": [
              "<Figure size 1500x300 with 5 Axes>"
            ],
            "image/png": "[encoded data removed]"
          },
          "metadata": {}
        }
      ]
    },
    {
      "cell_type": "markdown",
      "source": [
        "# **Discussion :**"
      ],
      "metadata": {
        "id": "2k9-a-5k6yNy"
      }
    },
    {
      "cell_type": "markdown",
      "source": [
        "Over all values of K, the k-NN classifier employing Euclidean (L2) distance regularly exceeded Manhattan (L1) distance based on the 5-fold cross-valuation results. While L2 reached 50.30% (at K=14), clearly showing advantage in using L2 for this grayscale image classification task, the highest accuracy attained with L1 was 42.57% (at K=14 and 15). The nature of the pixel-based image features most certainly influences this performance difference. Particularly in a lower-dimensional space like 32x32 grayscale, Euclidean distance penalizes more strongly larger pixel differences, so perhaps better captures shape and intensity variations across animal images. L1 seems less efficient in differentiating between like image classes, such as dogs and cats since it is less sensitive to such fluctuations. Increasing K generally also improved accuracy for both measures; performance stabilized around K=10–15. Especially in cases of visually noisy or ambiguous samples, this reflects the advantage of smoothing predictions using more neighbors. One of the limitations of this method is the reliance on raw pixel values, which might not capture higher-level patterns, and the great computational cost of k-NN at inference times. Future work could investigate feature extraction techniques, dimensionality reduction or more advanced models like convolutional neural networks (CNNs) in order to increase accuracy."
      ],
      "metadata": {
        "id": "gWPZIeZ465S5"
      }
    }
  ]
}